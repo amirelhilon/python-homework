{
 "cells": [
  {
   "cell_type": "code",
   "execution_count": 1,
   "id": "40d1ca79-4513-4d2c-9610-0d2651f31c97",
   "metadata": {},
   "outputs": [],
   "source": [
    "import pandas as pd\n",
    "from pathlib import Path"
   ]
  },
  {
   "cell_type": "code",
   "execution_count": 2,
   "id": "593d790f-a55c-4111-8946-1e1b9d3fad1a",
   "metadata": {},
   "outputs": [],
   "source": [
    "csv_path = Path(\"budget_data.csv\")\n",
    "csv_data = pd.read_csv(csv_path)"
   ]
  },
  {
   "cell_type": "code",
   "execution_count": 3,
   "id": "5c61c1b2-4725-4589-b932-82d68e51b2ee",
   "metadata": {},
   "outputs": [
    {
     "data": {
      "text/plain": [
       "(86, 2)"
      ]
     },
     "execution_count": 3,
     "metadata": {},
     "output_type": "execute_result"
    }
   ],
   "source": [
    "csv_data.shape"
   ]
  },
  {
   "cell_type": "code",
   "execution_count": 8,
   "id": "5ab3eb9b-a314-4a2b-a22f-c8ec65791cc8",
   "metadata": {},
   "outputs": [
    {
     "data": {
      "text/plain": [
       "86"
      ]
     },
     "execution_count": 8,
     "metadata": {},
     "output_type": "execute_result"
    }
   ],
   "source": [
    "total_months = csv_data.shape[0]\n",
    "total_months"
   ]
  },
  {
   "cell_type": "code",
   "execution_count": 5,
   "id": "b8dce949-5ba8-4eaf-bc30-503c1c644d94",
   "metadata": {},
   "outputs": [
    {
     "data": {
      "text/html": [
       "<div>\n",
       "<style scoped>\n",
       "    .dataframe tbody tr th:only-of-type {\n",
       "        vertical-align: middle;\n",
       "    }\n",
       "\n",
       "    .dataframe tbody tr th {\n",
       "        vertical-align: top;\n",
       "    }\n",
       "\n",
       "    .dataframe thead th {\n",
       "        text-align: right;\n",
       "    }\n",
       "</style>\n",
       "<table border=\"1\" class=\"dataframe\">\n",
       "  <thead>\n",
       "    <tr style=\"text-align: right;\">\n",
       "      <th></th>\n",
       "      <th>Date</th>\n",
       "      <th>Profit/Losses</th>\n",
       "    </tr>\n",
       "  </thead>\n",
       "  <tbody>\n",
       "    <tr>\n",
       "      <th>0</th>\n",
       "      <td>Jan-2010</td>\n",
       "      <td>867884</td>\n",
       "    </tr>\n",
       "    <tr>\n",
       "      <th>1</th>\n",
       "      <td>Feb-2010</td>\n",
       "      <td>984655</td>\n",
       "    </tr>\n",
       "    <tr>\n",
       "      <th>2</th>\n",
       "      <td>Mar-2010</td>\n",
       "      <td>322013</td>\n",
       "    </tr>\n",
       "    <tr>\n",
       "      <th>3</th>\n",
       "      <td>Apr-2010</td>\n",
       "      <td>-69417</td>\n",
       "    </tr>\n",
       "    <tr>\n",
       "      <th>4</th>\n",
       "      <td>May-2010</td>\n",
       "      <td>310503</td>\n",
       "    </tr>\n",
       "  </tbody>\n",
       "</table>\n",
       "</div>"
      ],
      "text/plain": [
       "       Date  Profit/Losses\n",
       "0  Jan-2010         867884\n",
       "1  Feb-2010         984655\n",
       "2  Mar-2010         322013\n",
       "3  Apr-2010         -69417\n",
       "4  May-2010         310503"
      ]
     },
     "execution_count": 5,
     "metadata": {},
     "output_type": "execute_result"
    }
   ],
   "source": [
    "csv_data.head()"
   ]
  },
  {
   "cell_type": "code",
   "execution_count": 7,
   "id": "e8abd5cf-5226-4107-8df3-eee55f419789",
   "metadata": {},
   "outputs": [
    {
     "data": {
      "text/plain": [
       "'$38382578'"
      ]
     },
     "execution_count": 7,
     "metadata": {},
     "output_type": "execute_result"
    }
   ],
   "source": [
    "net_total = f\"${csv_data['Profit/Losses'].sum()}\"\n",
    "net_total"
   ]
  },
  {
   "cell_type": "code",
   "execution_count": 13,
   "id": "a440e1b3-a1c6-4934-9cf2-8dd6d3db07c7",
   "metadata": {},
   "outputs": [
    {
     "data": {
      "text/plain": [
       "446309.05"
      ]
     },
     "execution_count": 13,
     "metadata": {},
     "output_type": "execute_result"
    }
   ],
   "source": [
    "average_of_changes = csv_data['Profit/Losses'].mean()\n",
    "average_of_changes\n",
    "average_of_changes = round(average_of_changes, 2)\n",
    "average_of_changes"
   ]
  },
  {
   "cell_type": "code",
   "execution_count": 15,
   "id": "e0ceb40a-7a8d-4ad5-9698-4960e1fe3304",
   "metadata": {},
   "outputs": [],
   "source": [
    "Profits = []\n",
    "Losses = []\n",
    "for number in csv_data['Profit/Losses']:\n",
    "    if number > 0:\n",
    "        Profits.append(number)\n",
    "    elif number < 0:\n",
    "            Losses.append(number)\n",
    "greatest_profit_increase = max(Profits) - min(Profits)\n",
    "highest_month = 0\n",
    "greatest_loss_decrease = max(Losses) - min(Losses)\n",
    "lowest_month = 0"
   ]
  },
  {
   "cell_type": "code",
   "execution_count": 16,
   "id": "356eaa3b-d262-4c17-b0c4-981b1b7d7aea",
   "metadata": {},
   "outputs": [],
   "source": [
    "for index, row in csv_data.iterrows():\n",
    "    if row['Profit/Losses'] == max(Profits):\n",
    "        highest_month = row['Date']\n",
    "    if row['Profit/Losses'] == min(Losses):\n",
    "        lowest_month = row['Date']"
   ]
  },
  {
   "cell_type": "code",
   "execution_count": 25,
   "id": "055fcc38-b521-494d-906c-001eb2dc084f",
   "metadata": {},
   "outputs": [],
   "source": [
    "with open('financial_report.txt', 'w') as file:\n",
    "    file.write(f\"Financial Analysis\")\n",
    "    file.write('\\n'f\"--------------------------\")\n",
    "    file.write('\\n'f\"Total Month: {total_months}\")\n",
    "    file.write('\\n'f\"Total: {net_total}\")\n",
    "    file.write('\\n'f\"Average Change: ${average_of_changes}\")\n",
    "    file.write('\\n'f\"Greatest Increase in Profits: {highest_month} (${greatest_profit_increase})\")\n",
    "    file.write('\\n'f\"Greatest Decrease in Profits: {lowest_month} (${greatest_loss_decrease})\")\n",
    "file.close()"
   ]
  },
  {
   "cell_type": "code",
   "execution_count": null,
   "id": "5d797900-e5d2-4886-b096-79be94a148c9",
   "metadata": {},
   "outputs": [],
   "source": []
  }
 ],
 "metadata": {
  "kernelspec": {
   "display_name": "Python 3 (ipykernel)",
   "language": "python",
   "name": "python3"
  },
  "language_info": {
   "codemirror_mode": {
    "name": "ipython",
    "version": 3
   },
   "file_extension": ".py",
   "mimetype": "text/x-python",
   "name": "python",
   "nbconvert_exporter": "python",
   "pygments_lexer": "ipython3",
   "version": "3.9.13"
  }
 },
 "nbformat": 4,
 "nbformat_minor": 5
}
